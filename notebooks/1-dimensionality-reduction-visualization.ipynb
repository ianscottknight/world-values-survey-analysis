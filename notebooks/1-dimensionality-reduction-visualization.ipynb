{
 "cells": [
  {
   "cell_type": "code",
   "execution_count": null,
   "metadata": {},
   "outputs": [],
   "source": [
    "import fix_notebook_imports\n",
    "\n",
    "from src import util\n",
    "\n",
    "import numpy as np\n",
    "import pandas as pd\n",
    "from sklearn import preprocessing\n",
    "from sklearn.decomposition import PCA\n",
    "from sklearn.manifold import TSNE\n",
    "from mpl_toolkits.mplot3d import Axes3D\n",
    "from matplotlib import pyplot as plt\n",
    "import seaborn as sns\n",
    "sns.set(rc={'figure.figsize':(11.7,8.27)})\n",
    "palette = sns.color_palette(\"bright\", 10)\n"
   ]
  },
  {
   "cell_type": "code",
   "execution_count": null,
   "metadata": {},
   "outputs": [],
   "source": [
    "# Read in dataframe from CSV\n",
    "\n",
    "df = pd.read_csv(f\"{util.DATA_RAW_DIR}/WVS_per_country.csv\")\n"
   ]
  },
  {
   "cell_type": "code",
   "execution_count": null,
   "metadata": {},
   "outputs": [],
   "source": [
    "# Keep one row per country using only the most recent data about that country\n",
    "\n",
    "countries = []\n",
    "bools = [False for _ in range(df.shape[0])]\n",
    "for wave in range(6, 3, -1):\n",
    "    wave_bools = []\n",
    "    for i, row in df.iterrows():\n",
    "        if (row[\"Wave\"] == wave) and (row[\"Country\"] not in countries):\n",
    "            wave_bools.append(True)\n",
    "            countries.append(row[\"Country\"])\n",
    "        else: \n",
    "            wave_bools.append(False)\n",
    "    bools = np.logical_or(wave_bools, bools)\n",
    "\n",
    "df = df[bools]\n"
   ]
  },
  {
   "cell_type": "code",
   "execution_count": null,
   "metadata": {},
   "outputs": [],
   "source": [
    "# Only include meaningful categories \n",
    "\n",
    "starts_with = [\n",
    "    \"a\", # Perceptions of life\n",
    "    \"b\", # Environment\n",
    "    'c', # Work\n",
    "    'd', # Family\n",
    "    'e', # Politics and Society\n",
    "    'f', # Religion and Morale\n",
    "    'g', # National Identity\n",
    "    'h', # Security\n",
    "    'i' # Science\n",
    "]\n",
    "\n",
    "drop_columns = [col for col in df.columns if col.lower()[0] not in starts_with]\n",
    "df = df.drop(labels=drop_columns, axis=1)\n"
   ]
  },
  {
   "cell_type": "code",
   "execution_count": null,
   "metadata": {},
   "outputs": [],
   "source": [
    "# Drop specialty columns except standard deviation data\n",
    "\n",
    "drop_columns = [col for col in df.columns if (\"_\" in col) and (col.lower()[-3:] != '_sd')]\n",
    "df = df.drop(labels=drop_columns, axis=1)\n"
   ]
  },
  {
   "cell_type": "code",
   "execution_count": null,
   "metadata": {},
   "outputs": [],
   "source": [
    "# Drop columns with too much missing information\n",
    "\n",
    "df = df.fillna(df.mean(), limit=6)\n",
    "df = df.dropna(axis=1)\n"
   ]
  },
  {
   "cell_type": "code",
   "execution_count": null,
   "metadata": {},
   "outputs": [],
   "source": [
    "# Drop non-numeric columns (besides Country label)\n",
    "\n",
    "numeric_columns = list(df.select_dtypes([np.float]).columns)\n",
    "keep_columns = [\"Country\"] + numeric_columns\n",
    "df = df.filter(keep_columns)\n"
   ]
  },
  {
   "cell_type": "code",
   "execution_count": null,
   "metadata": {},
   "outputs": [],
   "source": [
    "# Normalize columns (mean=0, std=1)\n",
    "\n",
    "df_normalized = df.filter(numeric_columns).apply(lambda x: (x - x.mean()) / x.std(), axis=0)\n",
    "df_normalized\n"
   ]
  },
  {
   "cell_type": "code",
   "execution_count": null,
   "metadata": {},
   "outputs": [],
   "source": [
    "print(f\"Dimensionality: {len(df_normalized.filter(numeric_columns).columns)}\")\n"
   ]
  },
  {
   "cell_type": "code",
   "execution_count": null,
   "metadata": {},
   "outputs": [],
   "source": [
    "def plot_embeddings_2D(df_embedded, method):\n",
    "    fig = plt.figure(figsize=(20,12))\n",
    "    ax = sns.scatterplot(\n",
    "        x=\"dim_1\", \n",
    "        y=\"dim_2\", \n",
    "        data=df_embedded\n",
    "    )\n",
    "\n",
    "    plt.title(f'Culture Embeddings (Data: World Values Survey, Method: {method})')\n",
    "\n",
    "    def label_point(x, y, val, ax):\n",
    "        a = pd.concat({'x': x, 'y': y, 'val': val}, axis=1)\n",
    "        for i, point in a.iterrows():\n",
    "            ax.text(point['x']+.02, point['y'], str(point['val']))\n",
    "\n",
    "    label_point(df_embedded.dim_1, df_embedded.dim_2, df_embedded.Country, plt.gca())\n"
   ]
  },
  {
   "cell_type": "code",
   "execution_count": null,
   "metadata": {},
   "outputs": [],
   "source": [
    "def plot_embeddings_3D(df_embedded, method):\n",
    "    fig = plt.figure(figsize=(20,12))\n",
    "    ax = Axes3D(fig)\n",
    "    ax.scatter(\n",
    "        df_embedded[\"dim_1\"],\n",
    "        df_embedded[\"dim_2\"],\n",
    "        df_embedded[\"dim_3\"]\n",
    "    )\n",
    "\n",
    "    plt.title(f'Culture Embeddings (Data: World Values Survey, Method: {method})')\n",
    "\n",
    "    def label_point(x, y, z, val, ax):\n",
    "        a = pd.concat({'x': x, 'y': y, 'z': z, 'val': val}, axis=1)\n",
    "        for i, point in a.iterrows():\n",
    "            ax.text(point['x']+.02, point['y'], point['z'], str(point['val']))\n",
    "\n",
    "    label_point(df_embedded.dim_1, df_embedded.dim_2, df_embedded.dim_3, df_embedded.Country, plt.gca())\n",
    "    "
   ]
  },
  {
   "cell_type": "code",
   "execution_count": null,
   "metadata": {},
   "outputs": [],
   "source": [
    "# Plot PCA \n",
    "\n",
    "pca = PCA()\n",
    "X_embedded = pca.fit_transform(df_normalized.filter(numeric_columns).values)\n",
    "df_pca = pd.DataFrame(X_embedded[:,:3], columns=[\"dim_1\", \"dim_2\", \"dim_3\"])\n",
    "df_pca[\"Country\"] = list(df[\"Country\"])\n",
    "plot_embeddings_2D(df_pca, method=\"PCA\")\n",
    "plot_embeddings_3D(df_pca, method=\"PCA\")\n"
   ]
  },
  {
   "cell_type": "code",
   "execution_count": null,
   "metadata": {},
   "outputs": [],
   "source": [
    "# Plot t-SNE\n",
    "\n",
    "tsne_2D = TSNE(n_components=2, perplexity=10, learning_rate=100)\n",
    "X_embedded_2D = tsne_2D.fit_transform(df_normalized.filter(numeric_columns).values)\n",
    "df_tsne_2D = pd.DataFrame(X_embedded_2D, columns=[\"dim_1\", \"dim_2\"])\n",
    "df_tsne_2D[\"Country\"] = list(df[\"Country\"])\n",
    "plot_embeddings_2D(df_tsne_2D, method=\"t-SNE\")\n"
   ]
  },
  {
   "cell_type": "code",
   "execution_count": null,
   "metadata": {},
   "outputs": [],
   "source": []
  }
 ],
 "metadata": {
  "kernelspec": {
   "display_name": "Python 3",
   "language": "python",
   "name": "python3"
  },
  "language_info": {
   "codemirror_mode": {
    "name": "ipython",
    "version": 3
   },
   "file_extension": ".py",
   "mimetype": "text/x-python",
   "name": "python",
   "nbconvert_exporter": "python",
   "pygments_lexer": "ipython3",
   "version": "3.8.5"
  }
 },
 "nbformat": 4,
 "nbformat_minor": 4
}
